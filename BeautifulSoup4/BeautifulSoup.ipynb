{
 "cells": [
  {
   "cell_type": "code",
   "execution_count": 13,
   "id": "83683049-8a0a-43f5-8579-eb8823a64ca2",
   "metadata": {},
   "outputs": [],
   "source": [
    "import pandas as pd\n",
    "import numpy as np\n",
    "import matplotlib.pyplot as plt\n",
    "\n",
    "%matplotlib inline\n",
    "\n",
    "from urllib.request import urlopen\n",
    "from bs4 import BeautifulSoup\n",
    "import re"
   ]
  },
  {
   "cell_type": "code",
   "execution_count": 14,
   "id": "84e64caf-41ca-4bb2-99fd-bf04271ba4f1",
   "metadata": {},
   "outputs": [],
   "source": [
    "url = \"https://www.hubertiming.com/results/2018MLK\"\n",
    "html = urlopen(url)"
   ]
  },
  {
   "cell_type": "code",
   "execution_count": 15,
   "id": "286a293d-7bf5-43fc-b2cc-570cea99fc2a",
   "metadata": {},
   "outputs": [],
   "source": [
    "soup = BeautifulSoup(html, \"lxml\")"
   ]
  },
  {
   "cell_type": "code",
   "execution_count": 16,
   "id": "84c0b352-5ca1-409d-8bf7-99311b4a5a94",
   "metadata": {},
   "outputs": [
    {
     "name": "stdout",
     "output_type": "stream",
     "text": [
      "<title>Race results for the 2018 MLK Dream Run!</title>\n",
      "Race results for the 2018 MLK Dream Run!\n"
     ]
    }
   ],
   "source": [
    "title = soup.title\n",
    "print(title)\n",
    "print(title.text)"
   ]
  },
  {
   "cell_type": "code",
   "execution_count": 26,
   "id": "04d4b195-2e88-46ba-8b89-8b701db60bcb",
   "metadata": {},
   "outputs": [
    {
     "name": "stdout",
     "output_type": "stream",
     "text": [
      "https://www.mlkdreamrun.com/\n",
      "mailto:timing@hubertiming.com\n",
      "https://www.hubertiming.com\n",
      "/results/2018MLK10K\n",
      "/results/2018MLK15K\n",
      "/results/summary/2018MLK\n",
      "#tabs-1\n",
      "https://www.hubertiming.com/\n",
      "https://facebook.com/hubertiming/\n"
     ]
    }
   ],
   "source": [
    "links = soup.find_all('a', href = True)\n",
    "for link in links:\n",
    "    print(link['href'])"
   ]
  },
  {
   "cell_type": "code",
   "execution_count": 35,
   "id": "164ee57a-ad8d-47cb-bebe-c2059ed59772",
   "metadata": {},
   "outputs": [
    {
     "name": "stdout",
     "output_type": "stream",
     "text": [
      "[<tr colspan=\"2\">\n",
      "<b>5K:</b>\n",
      "</tr>, <tr>\n",
      "<td>Finishers:</td>\n",
      "<td>191</td>\n",
      "</tr>, <tr>\n",
      "<td>Male:</td>\n",
      "<td>78</td>\n",
      "</tr>, <tr>\n",
      "<td>Female:</td>\n",
      "<td>113</td>\n",
      "</tr>, <tr class=\"header\">\n",
      "<th>Place</th>\n",
      "<th>Bib</th>\n",
      "<th>Name</th>\n",
      "<th>Gender</th>\n",
      "<th>Age</th>\n",
      "<th>City</th>\n",
      "<th>Chip Time</th>\n",
      "<th>Chip Pace</th>\n",
      "<th>Gender Place</th>\n",
      "<th>Age Group</th>\n",
      "<th>Age Group Place</th>\n",
      "<th>Time to Start</th>\n",
      "<th>Gun Time</th>\n",
      "</tr>]\n"
     ]
    }
   ],
   "source": [
    "allrows = soup.find_all(\"tr\")\n",
    "print(allrows[:5])"
   ]
  },
  {
   "cell_type": "code",
   "execution_count": 36,
   "id": "57b7d7bd-a8dd-45aa-ab1f-3cf3849fa10d",
   "metadata": {},
   "outputs": [
    {
     "name": "stdout",
     "output_type": "stream",
     "text": [
      "[<td>191</td>, <td>1216</td>, <td>\n",
      "\n",
      "                    ZULMA OCHOA\n",
      "\n",
      "                </td>, <td>F</td>, <td>40</td>, <td>GRESHAM</td>, <td>1:43:27</td>, <td>33:22</td>, <td>\n",
      "\n",
      "                    113 of 113\n",
      "\n",
      "                </td>, <td>F 40-54</td>, <td>\n",
      "\n",
      "                    37 of 37\n",
      "\n",
      "                </td>, <td>0:00</td>, <td>1:43:27</td>]\n"
     ]
    }
   ],
   "source": [
    "allrows = soup.find_all(\"tr\")\n",
    "for row in allrows:\n",
    "    row_list = row.find_all(\"td\")\n",
    "print(row_list)"
   ]
  },
  {
   "cell_type": "code",
   "execution_count": null,
   "id": "f0f9f0f0-089a-490f-8b7b-e7d129f1d07e",
   "metadata": {},
   "outputs": [],
   "source": [
    " "
   ]
  }
 ],
 "metadata": {
  "kernelspec": {
   "display_name": "Python 3 (ipykernel)",
   "language": "python",
   "name": "python3"
  },
  "language_info": {
   "codemirror_mode": {
    "name": "ipython",
    "version": 3
   },
   "file_extension": ".py",
   "mimetype": "text/x-python",
   "name": "python",
   "nbconvert_exporter": "python",
   "pygments_lexer": "ipython3",
   "version": "3.9.7"
  }
 },
 "nbformat": 4,
 "nbformat_minor": 5
}
